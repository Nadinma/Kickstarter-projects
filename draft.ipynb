{
 "cells": [
  {
   "cell_type": "code",
   "execution_count": 1,
   "metadata": {},
   "outputs": [],
   "source": [
    "import pandas as pd \n",
    "import numpy as np\n",
    "import matplotlib.pyplot as plt\n",
    "import glob # To read all csv files in the directory\n",
    "import seaborn as sns\n",
    "import calendar"
   ]
  },
  {
   "cell_type": "code",
   "execution_count": 2,
   "metadata": {},
   "outputs": [
    {
     "data": {
      "text/plain": [
       "3690"
      ]
     },
     "execution_count": 2,
     "metadata": {},
     "output_type": "execute_result"
    }
   ],
   "source": [
    "df = pd.read_csv('data/Kickstarter_2020-11-12T03_20_11_453Z/Kickstarter.csv')\n",
    "df.describe()\n",
    "len(df)"
   ]
  },
  {
   "cell_type": "code",
   "execution_count": 3,
   "metadata": {},
   "outputs": [],
   "source": [
    "df_try = pd.concat([pd.read_csv(f) for f in glob.glob('data/Kickstarter_2020-11-12T03_20_11_453Z/Kickstarter*.csv')], ignore_index = True)"
   ]
  },
  {
   "cell_type": "code",
   "execution_count": 10,
   "metadata": {},
   "outputs": [
    {
     "data": {
      "text/html": [
       "<div>\n",
       "<style scoped>\n",
       "    .dataframe tbody tr th:only-of-type {\n",
       "        vertical-align: middle;\n",
       "    }\n",
       "\n",
       "    .dataframe tbody tr th {\n",
       "        vertical-align: top;\n",
       "    }\n",
       "\n",
       "    .dataframe thead th {\n",
       "        text-align: right;\n",
       "    }\n",
       "</style>\n",
       "<table border=\"1\" class=\"dataframe\">\n",
       "  <thead>\n",
       "    <tr style=\"text-align: right;\">\n",
       "      <th></th>\n",
       "      <th>backers_count</th>\n",
       "      <th>blurb</th>\n",
       "      <th>category</th>\n",
       "      <th>converted_pledged_amount</th>\n",
       "      <th>country</th>\n",
       "      <th>country_displayable_name</th>\n",
       "      <th>created_at</th>\n",
       "      <th>creator</th>\n",
       "      <th>currency</th>\n",
       "      <th>currency_symbol</th>\n",
       "      <th>...</th>\n",
       "      <th>source_url</th>\n",
       "      <th>spotlight</th>\n",
       "      <th>staff_pick</th>\n",
       "      <th>state</th>\n",
       "      <th>state_changed_at</th>\n",
       "      <th>static_usd_rate</th>\n",
       "      <th>urls</th>\n",
       "      <th>usd_pledged</th>\n",
       "      <th>usd_type</th>\n",
       "      <th>blurb_length</th>\n",
       "    </tr>\n",
       "  </thead>\n",
       "  <tbody>\n",
       "    <tr>\n",
       "      <th>0</th>\n",
       "      <td>34</td>\n",
       "      <td>Add LED Strips to ANYTHING: User-Friendly, Mod...</td>\n",
       "      <td>{\"id\":334,\"name\":\"DIY Electronics\",\"slug\":\"tec...</td>\n",
       "      <td>3305</td>\n",
       "      <td>US</td>\n",
       "      <td>the United States</td>\n",
       "      <td>1539907280</td>\n",
       "      <td>{\"id\":451742083,\"name\":\"Daniel Tooker\",\"slug\":...</td>\n",
       "      <td>USD</td>\n",
       "      <td>$</td>\n",
       "      <td>...</td>\n",
       "      <td>https://www.kickstarter.com/discover/categorie...</td>\n",
       "      <td>False</td>\n",
       "      <td>False</td>\n",
       "      <td>canceled</td>\n",
       "      <td>1542221371</td>\n",
       "      <td>1.0</td>\n",
       "      <td>{\"web\":{\"project\":\"https://www.kickstarter.com...</td>\n",
       "      <td>3305.5</td>\n",
       "      <td>domestic</td>\n",
       "      <td>9.0</td>\n",
       "    </tr>\n",
       "  </tbody>\n",
       "</table>\n",
       "<p>1 rows × 39 columns</p>\n",
       "</div>"
      ],
      "text/plain": [
       "   backers_count                                              blurb  \\\n",
       "0             34  Add LED Strips to ANYTHING: User-Friendly, Mod...   \n",
       "\n",
       "                                            category  \\\n",
       "0  {\"id\":334,\"name\":\"DIY Electronics\",\"slug\":\"tec...   \n",
       "\n",
       "   converted_pledged_amount country country_displayable_name  created_at  \\\n",
       "0                      3305      US        the United States  1539907280   \n",
       "\n",
       "                                             creator currency currency_symbol  \\\n",
       "0  {\"id\":451742083,\"name\":\"Daniel Tooker\",\"slug\":...      USD               $   \n",
       "\n",
       "   ...                                         source_url spotlight  \\\n",
       "0  ...  https://www.kickstarter.com/discover/categorie...     False   \n",
       "\n",
       "   staff_pick     state state_changed_at  static_usd_rate  \\\n",
       "0       False  canceled       1542221371              1.0   \n",
       "\n",
       "                                                urls  usd_pledged  usd_type  \\\n",
       "0  {\"web\":{\"project\":\"https://www.kickstarter.com...       3305.5  domestic   \n",
       "\n",
       "   blurb_length  \n",
       "0           9.0  \n",
       "\n",
       "[1 rows x 39 columns]"
      ]
     },
     "execution_count": 10,
     "metadata": {},
     "output_type": "execute_result"
    }
   ],
   "source": [
    "df_try.head(1)"
   ]
  },
  {
   "cell_type": "code",
   "execution_count": 4,
   "metadata": {},
   "outputs": [
    {
     "data": {
      "text/plain": [
       "213193"
      ]
     },
     "execution_count": 4,
     "metadata": {},
     "output_type": "execute_result"
    }
   ],
   "source": [
    "len(df_try)"
   ]
  },
  {
   "cell_type": "code",
   "execution_count": 5,
   "metadata": {},
   "outputs": [
    {
     "name": "stdout",
     "output_type": "stream",
     "text": [
      "Of the 213193 projects in the dataset, there are 24209 which are listed more than once.\n"
     ]
    }
   ],
   "source": [
    "print(f\"Of the {len(df_try)} projects in the dataset, there are {len(df_try[df_try.duplicated(subset='id')])} which are listed more than once.\")"
   ]
  },
  {
   "cell_type": "code",
   "execution_count": 6,
   "metadata": {},
   "outputs": [],
   "source": [
    "df_try['blurb_length'] = df_try['blurb'].str.split().str.len()"
   ]
  },
  {
   "cell_type": "code",
   "execution_count": 11,
   "metadata": {},
   "outputs": [],
   "source": [
    "cols_to_convert = ['created_at', 'deadline', 'launched_at']\n",
    "for c in cols_to_convert:\n",
    "    df_try[c] = pd.to_datetime(df_try[c], origin='unix', unit='s')"
   ]
  },
  {
   "cell_type": "code",
   "execution_count": 12,
   "metadata": {},
   "outputs": [
    {
     "data": {
      "text/plain": [
       "2015    33854\n",
       "2020    33390\n",
       "2019    27344\n",
       "2016    26396\n",
       "2017    25322\n",
       "2014    23011\n",
       "2018    22763\n",
       "2013     9460\n",
       "2012     6435\n",
       "2011     3672\n",
       "2010     1327\n",
       "2009      219\n",
       "Name: launched_at, dtype: int64"
      ]
     },
     "execution_count": 12,
     "metadata": {},
     "output_type": "execute_result"
    }
   ],
   "source": [
    "launched_per_year_2020 = pd.DatetimeIndex(df_try[\"launched_at\"]).year\n",
    "launched_per_year_2020 = launched_per_year_2020.value_counts()\n",
    "launched_per_year_2020"
   ]
  },
  {
   "cell_type": "code",
   "execution_count": 15,
   "metadata": {},
   "outputs": [
    {
     "name": "stdout",
     "output_type": "stream",
     "text": [
      "The dataset contains projects added to Kickstarter between 22 April 2009 and 11 November 2020.\n"
     ]
    }
   ],
   "source": [
    "print(f\"The dataset contains projects added to Kickstarter between {min(df_try.created_at).strftime('%d %B %Y')} and {max(df_try.created_at).strftime('%d %B %Y')}.\")"
   ]
  },
  {
   "cell_type": "code",
   "execution_count": 16,
   "metadata": {},
   "outputs": [
    {
     "data": {
      "text/plain": [
       "dtype('<M8[ns]')"
      ]
     },
     "execution_count": 16,
     "metadata": {},
     "output_type": "execute_result"
    }
   ],
   "source": [
    "df_try.created_at.dtype"
   ]
  },
  {
   "cell_type": "code",
   "execution_count": 18,
   "metadata": {},
   "outputs": [
    {
     "data": {
      "text/plain": [
       "dtype('O')"
      ]
     },
     "execution_count": 18,
     "metadata": {},
     "output_type": "execute_result"
    }
   ],
   "source": [
    "df.blurb.dtype"
   ]
  },
  {
   "cell_type": "code",
   "execution_count": 20,
   "metadata": {},
   "outputs": [],
   "source": [
    "# Count length of each blurb\n",
    "df['blurb_length'] = df['blurb'].str.split().str.len()\n",
    "\n",
    "# Drop blurb variable\n",
    "#df.drop('blurb', axis=1, inplace=True)"
   ]
  },
  {
   "cell_type": "code",
   "execution_count": 22,
   "metadata": {},
   "outputs": [
    {
     "data": {
      "text/plain": [
       "0        4.0\n",
       "1       14.0\n",
       "2       16.0\n",
       "3       20.0\n",
       "4       22.0\n",
       "5       20.0\n",
       "6       14.0\n",
       "7       19.0\n",
       "8       14.0\n",
       "9       23.0\n",
       "10      16.0\n",
       "11      17.0\n",
       "12      13.0\n",
       "13       9.0\n",
       "14      20.0\n",
       "15      23.0\n",
       "16      11.0\n",
       "17      19.0\n",
       "18      23.0\n",
       "19      22.0\n",
       "20       8.0\n",
       "21       6.0\n",
       "22      17.0\n",
       "23      17.0\n",
       "24      21.0\n",
       "25      20.0\n",
       "26      19.0\n",
       "27      17.0\n",
       "28      21.0\n",
       "29       5.0\n",
       "        ... \n",
       "3660    19.0\n",
       "3661    19.0\n",
       "3662    10.0\n",
       "3663    21.0\n",
       "3664    17.0\n",
       "3665    25.0\n",
       "3666    10.0\n",
       "3667    20.0\n",
       "3668    19.0\n",
       "3669    19.0\n",
       "3670    21.0\n",
       "3671    22.0\n",
       "3672     3.0\n",
       "3673    17.0\n",
       "3674    21.0\n",
       "3675    14.0\n",
       "3676    21.0\n",
       "3677    17.0\n",
       "3678    23.0\n",
       "3679    20.0\n",
       "3680    16.0\n",
       "3681    24.0\n",
       "3682    24.0\n",
       "3683    16.0\n",
       "3684    18.0\n",
       "3685    18.0\n",
       "3686    19.0\n",
       "3687    26.0\n",
       "3688    15.0\n",
       "3689    16.0\n",
       "Name: blurb_length, Length: 3690, dtype: float64"
      ]
     },
     "execution_count": 22,
     "metadata": {},
     "output_type": "execute_result"
    }
   ],
   "source": [
    "df['blurb_length']"
   ]
  },
  {
   "cell_type": "code",
   "execution_count": null,
   "metadata": {},
   "outputs": [],
   "source": []
  }
 ],
 "metadata": {
  "kernelspec": {
   "display_name": "Python 3",
   "language": "python",
   "name": "python3"
  },
  "language_info": {
   "codemirror_mode": {
    "name": "ipython",
    "version": 3
   },
   "file_extension": ".py",
   "mimetype": "text/x-python",
   "name": "python",
   "nbconvert_exporter": "python",
   "pygments_lexer": "ipython3",
   "version": "3.7.3"
  }
 },
 "nbformat": 4,
 "nbformat_minor": 2
}
